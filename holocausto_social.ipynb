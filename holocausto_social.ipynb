{
  "nbformat": 4,
  "nbformat_minor": 0,
  "metadata": {
    "colab": {
      "name": "holocausto_social.ipynb",
      "provenance": [],
      "authorship_tag": "ABX9TyPEqgvnP1xbBz4xpKZurQ+v",
      "include_colab_link": true
    },
    "kernelspec": {
      "name": "python3",
      "display_name": "Python 3"
    },
    "language_info": {
      "name": "python"
    }
  },
  "cells": [
    {
      "cell_type": "markdown",
      "metadata": {
        "id": "view-in-github",
        "colab_type": "text"
      },
      "source": [
        "<a href=\"https://colab.research.google.com/github/magalhaesbrunop/Algorithm-Analysis-and-Data-Structure/blob/master/holocausto_social.ipynb\" target=\"_parent\"><img src=\"https://colab.research.google.com/assets/colab-badge.svg\" alt=\"Open In Colab\"/></a>"
      ]
    },
    {
      "cell_type": "markdown",
      "metadata": {
        "id": "e_qg1cz5N9PB"
      },
      "source": [
        "A desigualdade começa no momento que o povo escravisado no Brasil é liberto e essas pessoas analfabetas, sem posses e por não terem para onde ir, acabam escolhendo os morros brasileiros para construir moradias e poderem habitar."
      ]
    },
    {
      "cell_type": "markdown",
      "metadata": {
        "id": "Gm6Gto0KOkll"
      },
      "source": [
        "Apesar dos cristãos e sua incessante busca por um paraiso imaginário, não acabam vendo que eles próprios acabam quimando o Eden dos outros. Os indígenas todos os anos sofrem  acessédio e violencia contra o cristão tendo as duas casas queimadas e seu próprio Eden derrubado e queimado."
      ]
    },
    {
      "cell_type": "markdown",
      "metadata": {
        "id": "H_MF-yEFOkhA"
      },
      "source": [
        ""
      ]
    },
    {
      "cell_type": "markdown",
      "metadata": {
        "id": "M7NuqiFjOkcf"
      },
      "source": [
        ""
      ]
    },
    {
      "cell_type": "markdown",
      "metadata": {
        "id": "5pkt6emnOkNY"
      },
      "source": [
        ""
      ]
    }
  ]
}